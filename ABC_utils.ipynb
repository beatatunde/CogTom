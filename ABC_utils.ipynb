{
 "cells": [
  {
   "cell_type": "code",
   "execution_count": 1,
   "metadata": {},
   "outputs": [
    {
     "name": "stderr",
     "output_type": "stream",
     "text": [
      "c:\\ProgramData\\Anaconda3\\envs\\myenv\\lib\\site-packages\\llvmlite\\llvmpy\\__init__.py:3: UserWarning: The module `llvmlite.llvmpy` is deprecated and will be removed in the future.\n",
      "  warnings.warn(\n",
      "c:\\ProgramData\\Anaconda3\\envs\\myenv\\lib\\site-packages\\llvmlite\\llvmpy\\core.py:8: UserWarning: The module `llvmlite.llvmpy.core` is deprecated and will be removed in the future. Equivalent functionality is provided by `llvmlite.ir`.\n",
      "  warnings.warn(\n"
     ]
    }
   ],
   "source": [
    "import aesara\n",
    "import nutpie\n",
    "import pymc as pm\n",
    "import numpy as np\n",
    "import pandas as pd\n",
    "import arviz as az\n",
    "import matplotlib.pyplot as plt\n",
    "import scipy.stats as st\n"
   ]
  },
  {
   "cell_type": "code",
   "execution_count": 4,
   "metadata": {},
   "outputs": [
    {
     "name": "stdout",
     "output_type": "stream",
     "text": [
      "Last updated: 2023-06-02T21:07:47.455087+02:00\n",
      "\n",
      "Python implementation: CPython\n",
      "Python version       : 3.10.8\n",
      "IPython version      : 8.7.0\n",
      "\n",
      "Compiler    : MSC v.1916 64 bit (AMD64)\n",
      "OS          : Windows\n",
      "Release     : 10\n",
      "Machine     : AMD64\n",
      "Processor   : Intel64 Family 6 Model 126 Stepping 5, GenuineIntel\n",
      "CPU cores   : 8\n",
      "Architecture: 64bit\n",
      "\n",
      "aesara: 2.8.7\n",
      "nutpie: 0.3.0\n",
      "pymc  : 4.4.0\n",
      "arviz : 0.14.0\n",
      "\n"
     ]
    }
   ],
   "source": [
    "from watermark import watermark\n",
    "print(watermark())\n",
    "print(watermark(packages=\"aesara,nutpie,pymc,arviz\"))\n"
   ]
  },
  {
   "attachments": {},
   "cell_type": "markdown",
   "metadata": {},
   "source": [
    "## ABC functions for inferring Gaussian parameters in 1d and nD"
   ]
  },
  {
   "cell_type": "code",
   "execution_count": 10,
   "metadata": {},
   "outputs": [],
   "source": [
    "def genData(N, ndim, mu_true, sigma2_true):\n",
    "    #N = 100\n",
    "    #sigma2_true = 1**2\n",
    "    #mu_true = -1.8 #np.random.normal(0, 1)\n",
    "    \n",
    "    if N == 1:\n",
    "        data = st.multivariate_normal(mean = np.ones(ndim) * mu_true, cov = np.identity(ndim) * sigma2_true).rvs(1)\n",
    "    else: \n",
    "        data = np.random.normal(mu_true, np.sqrt(sigma2_true), N)\n",
    "    return data"
   ]
  },
  {
   "cell_type": "code",
   "execution_count": 11,
   "metadata": {},
   "outputs": [],
   "source": [
    "def normal_sim_Nd(rng, m, s2, ndim, size):\n",
    "    data = st.multivariate_normal(mean = np.ones(ndim) * m, cov = np.identity(ndim) * s2).rvs(1)\n",
    "    return data"
   ]
  },
  {
   "cell_type": "code",
   "execution_count": null,
   "metadata": {},
   "outputs": [],
   "source": [
    "def normal_sim_Nd_norm(rng, m, s2, ndim, size):\n",
    "    data = st.multivariate_normal(mean = np.ones(ndim) * m, cov = np.identity(ndim) * s2).rvs(10)\n",
    "    return data"
   ]
  },
  {
   "cell_type": "code",
   "execution_count": 12,
   "metadata": {},
   "outputs": [],
   "source": [
    "def normal_sim_1d(rng, m, s2, size):\n",
    "    data = np.random.normal(m, np.sqrt(s2), size)\n",
    "    return data"
   ]
  },
  {
   "cell_type": "code",
   "execution_count": 13,
   "metadata": {},
   "outputs": [],
   "source": [
    "def modelDef(target, ndim, fixedParamValue, priorArg1, priorArg2, x_sim, eps):    \n",
    "    if target == \"mu\":\n",
    "            \n",
    "            if ndim == 1:\n",
    "                with pm.Model() as model:\n",
    "                    mu = pm.Normal(\"mu\", priorArg1, np.sqrt(priorArg2)) #mean_true #pm.Normal(\"a\", mu=0, sigma=5)\n",
    "                    sigma2 = fixedParamValue\n",
    "\n",
    "                    x = pm.Simulator(\n",
    "                        \"x\", \n",
    "                        fn = normal_sim_1d, \n",
    "                        params = (mu, sigma2), \n",
    "                        sum_stat = \"identity\", \n",
    "                        distance = \"gaussian\",\n",
    "                        epsilon = eps, \n",
    "                        observed = x_sim)\n",
    "            \n",
    "            if ndim > 1:\n",
    "                with pm.Model() as model:\n",
    "                    mu = pm.Normal(\"mu\", priorArg1, np.sqrt(priorArg2)) #mean_true #pm.Normal(\"a\", mu=0, sigma=5)\n",
    "                    sigma2 = fixedParamValue\n",
    "\n",
    "                    x = pm.Simulator(\n",
    "                        \"x\", \n",
    "                        fn = normal_sim_Nd, \n",
    "                        params = (mu, sigma2, ndim), \n",
    "                        sum_stat = \"identity\", \n",
    "                        distance = \"gaussian\",\n",
    "                        epsilon = eps, \n",
    "                        observed = x_sim)\n",
    "                            \n",
    "    if target == \"sigma2\":\n",
    "            if ndim == 1:\n",
    "                with pm.Model() as model:\n",
    "                    mu = fixedParamValue #mean_true #pm.Normal(\"a\", mu=0, sigma=5)\n",
    "                    sigma2 = pm.InverseGamma(\"sigma2\", priorArg1, priorArg2)\n",
    "\n",
    "                    x = pm.Simulator(\n",
    "                        \"x\", \n",
    "                        fn = normal_sim_1d, \n",
    "                        params = (mu, sigma2), \n",
    "                        sum_stat = \"identity\", \n",
    "                        distance = \"gaussian\",\n",
    "                        epsilon = eps, \n",
    "                        observed = x_sim)\n",
    "            \n",
    "            if ndim > 1:\n",
    "                with pm.Model() as model:\n",
    "                    mu = fixedParamValue #mean_true #pm.Normal(\"a\", mu=0, sigma=5)\n",
    "                    sigma2 = pm.InverseGamma(\"sigma2\", priorArg1, priorArg2)\n",
    "\n",
    "                    x = pm.Simulator(\n",
    "                        \"x\", \n",
    "                        fn = normal_sim_Nd_norm, \n",
    "                        params = (mu, sigma2, ndim), \n",
    "                        sum_stat = \"identity\", \n",
    "                        distance = \"gaussian_norm\",\n",
    "                        epsilon = eps, \n",
    "                        observed = x_sim)\n",
    "            \n",
    "            \n",
    "    return model\n"
   ]
  },
  {
   "cell_type": "code",
   "execution_count": 14,
   "metadata": {},
   "outputs": [],
   "source": [
    "def genDatawModel(N, mu_true, sigma2_true, target, ndim, priorArg1, priorArg2, eps):\n",
    "    data = genData(N, ndim, mu_true, sigma2_true)\n",
    "    if target == \"mu\": \n",
    "        fixedParamValue = sigma2_true\n",
    "    if target ==\"sigma2\":\n",
    "        fixedParamValue = mu_true\n",
    "    model = modelDef(target, ndim, fixedParamValue, priorArg1, priorArg2, data, eps)\n",
    "\n",
    "    return data, model"
   ]
  },
  {
   "cell_type": "code",
   "execution_count": 15,
   "metadata": {},
   "outputs": [],
   "source": [
    "def testABC(N, target, ndim, mu_true, sigma2_true, priorArg1, priorArg2, eps, draws):\n",
    "    data, model = genDatawModel(N = N, mu_true = mu_true, sigma2_true = sigma2_true, target = target, ndim = ndim, priorArg1 = priorArg1, priorArg2 = priorArg2, eps = eps)\n",
    "    chain_num = 1\n",
    "\n",
    "    %time \n",
    "    trace = pm.sample_smc(model = model, chains = chain_num, cores = 1, draws = draws, progressbar = False)\n",
    "        \n",
    "    print(\"\\n \\n ####  Inferring  \"+str(target)+\"  in a  \"+str(ndim)+\"  dimensional setup\")\n",
    "    print(\" ####  N = \"+str(N)+\"  mu_true = \"+str(mu_true)+\"  $\\sigma^2$_true = \"+str(sigma2_true))\n",
    "    print(\" ####  Prior arguments: \"+str(priorArg1)+\", \"+str(priorArg2))\n",
    "    print(\" ####  ABC epsilon = \"+str(eps)+\", draws = \"+str(draws)+\"\\n\")\n",
    "\n",
    "    if target == \"mu\":\n",
    "        plot_posterior_hist_mu(res = trace, data = data, mu_true = mu_true, norm_1 = priorArg1, norm_2 = priorArg2, sigma2_true = sigma2_true, N = N, ndim = ndim, chain_num=chain_num, eps=eps)\n",
    "    if target == \"sigma2\":\n",
    "        plot_posterior_hist_sigma2(res = trace, data = data, sigma2_true = sigma2_true, ig_1 = priorArg1, ig_2 = priorArg2, mu_true = mu_true, N = N, ndim = ndim, chain_num=chain_num, eps=eps)\n"
   ]
  },
  {
   "cell_type": "code",
   "execution_count": 7,
   "metadata": {},
   "outputs": [],
   "source": [
    "def plot_posterior_hist_sigma2(res, data, sigma2_true, ig_1, ig_2, mu_true, N, ndim, chain_num, eps):\n",
    "    plt.hist(res.posterior.sigma2[0,:], bins=np.logspace(np.log10(0.01),np.log10(50.0), 50), density=True, color='gray', alpha=0.8)\n",
    "    plt.axvline(x = sigma2_true, label = '$\\sigma^2$ used for data simulation')\n",
    "    x = np.linspace (0.01, 50, 5000) \n",
    "\n",
    "    #calculate pdf of Gamma distribution for each x-value\n",
    "    y = st.invgamma.pdf(x, a = ig_1, loc = 0, scale = ig_2)\n",
    "    plt.plot(x, y, linestyle='dashed', label='$\\sigma^2$ prior' )\n",
    "\n",
    "    \n",
    "    #sigmaPost_x, sigmaPost_value=forplot_sigma_posterior(res, inv_1, inv_2)\n",
    "    #plt.plot(sigmaPost_x, sigmaPost_value, color='black', label='analytic posterior' )\n",
    "\n",
    "    xmin, xmax = plt.xlim()\n",
    "    #xx = np.linspace(xmin, xmax, 100)\n",
    "    postig_1 = ig_1 + max(N, ndim)/2\n",
    "    postig_2 = ig_2 + 0.5 * sum((data - mu_true) ** 2)\n",
    "    plt.plot(x, st.invgamma.pdf(x, a = postig_1, loc = 0, scale = postig_2), alpha=1, label=\"analytic posterior\")\n",
    "\n",
    "\n",
    "    ax=plt.gca()\n",
    "    ax.set_xscale('log')\n",
    "    ax.set_xlim(0.01, 50)\n",
    "    ax.set_ylim(0.0, 10)\n",
    "\n",
    "    plt.legend(loc=\"upper right\")\n",
    "    plt.title('$\\sigma^2$ posterior \\n N:'+str(N) +'  ndim:'+str(ndim) + '\\n chain num:' + str(chain_num)+'\\n eps:'+str(eps))\n",
    "    plt.show()"
   ]
  },
  {
   "cell_type": "code",
   "execution_count": 8,
   "metadata": {},
   "outputs": [],
   "source": [
    "def plot_posterior_hist_mu(res, data, mu_true, norm_1, norm_2, sigma2_true, N, ndim, chain_num, eps):\n",
    "    plt.hist(res.posterior.mu[0,:], bins=50, density=True, color='gray', alpha=0.8)\n",
    "    plt.axvline(x = mu_true, label = '$\\mu$ used for data simulation')\n",
    "    x = np.linspace(-3, 3, 1000) \n",
    "\n",
    "    #calculate pdf of Gamma distribution for each x-value\n",
    "    y = st.norm.pdf(x, norm_1, np.sqrt(norm_2))\n",
    "    plt.plot(x, y, linestyle='dashed', label='$\\mu$ prior' )\n",
    "\n",
    "    muPost_m = 1/(1 + sigma2_true / max(ndim,N)) * np.mean(data)\n",
    "    muPost_var = 1/(1 + max(ndim,N) / sigma2_true)\n",
    "    muPost = st.norm.pdf(x, muPost_m, np.sqrt(muPost_var))\n",
    "    #sigmaPost_x, sigmaPost_value=forplot_sigma_posterior(res, inv_1, inv_2)\n",
    "    plt.plot(x, muPost, label='analytic posterior' )\n",
    "  \n",
    "    ax=plt.gca()\n",
    "    #ax.set_xscale('log')\n",
    "    ax.set_xlim(-3, 3)\n",
    "    ax.set_ylim(0.0, 5)\n",
    "\n",
    "    plt.legend(loc=\"upper right\")\n",
    "    plt.title('$\\mu$ posterior \\n N:'+str(N) +'  ndim:'+str(ndim) + '\\n chain num:' + str(chain_num)+'\\n eps:'+str(eps))\n",
    "    plt.show()"
   ]
  },
  {
   "attachments": {},
   "cell_type": "markdown",
   "metadata": {},
   "source": [
    "## Analytical model functions"
   ]
  },
  {
   "cell_type": "code",
   "execution_count": 1,
   "metadata": {},
   "outputs": [],
   "source": [
    "# Setting up the dataset\n",
    "def generateData(N = 50, sigma2_true = 1.5 ** 2):\n",
    "    x_sim = np.random.normal(0, np.sqrt(1), N)\n",
    "    y_sim = st.multivariate_normal(x_sim, np.identity(N) * sigma2_true).rvs(1)\n",
    "    z_sim = st.multivariate_normal((1 / 1 + sigma2_true) * y_sim, np.identity(N) * sigma2_true / (1 + sigma2_true)).rvs(1)\n",
    "    \n",
    "    return x_sim, y_sim, z_sim\n"
   ]
  },
  {
   "cell_type": "code",
   "execution_count": null,
   "metadata": {},
   "outputs": [],
   "source": [
    "def genModel_analytic(x_sim, z_sim, ig_1, ig_2):\n",
    "  with pm.Model() as model: # model of the experimenter\n",
    "    #x = pm.Normal(\"x\", 0, 1, observed = stimulus_simulation) # defining the prior distribution for stimuli\n",
    "    sigma2 = pm.InverseGamma(\"sigma2\", ig_1, ig_2) \n",
    "    y = pm.Normal(\"y\", x_sim, np.sqrt(sigma2)) \n",
    "      \n",
    "    z = pm.Normal(\"z\", mu = 1 / (1 + sigma2) * y, sigma = np.sqrt(sigma2 / (1 + sigma2)), observed = z_sim)\n",
    "    return model\n",
    "    "
   ]
  },
  {
   "cell_type": "code",
   "execution_count": null,
   "metadata": {},
   "outputs": [],
   "source": [
    "def genDatawModel_analytic(N, sigma2_true, ig_1, ig_2):\n",
    "    x_sim, y_sim, z_sim = generateData(N, sigma2_true)\n",
    "    model = genModel_analytic(x_sim, z_sim, ig_1, ig_2)\n",
    "    return x_sim, y_sim, z_sim, model\n"
   ]
  },
  {
   "attachments": {},
   "cell_type": "markdown",
   "metadata": {},
   "source": [
    "### ABC for the CT model"
   ]
  },
  {
   "cell_type": "code",
   "execution_count": null,
   "metadata": {},
   "outputs": [],
   "source": [
    "def defineSharedVarsIdObs(y_sim):\n",
    "\n",
    "    sigma2 = aesara.shared(np.array(1.0), shape=(), name=\"sigma2\")\n",
    "    y_shared = aesara.shared(y_sim, shape = y_sim.shape, name=\"y_shared\")\n",
    "\n",
    "    with pm.Model() as ideal_observer_model:\n",
    "        x = pm.Normal(\"x\", 0, 1, shape = y_shared.shape)\n",
    "        pm.Normal(\"y\", x, np.sqrt(sigma2), observed = y_shared)\n",
    "\n",
    "    return ideal_observer_model"
   ]
  },
  {
   "cell_type": "code",
   "execution_count": null,
   "metadata": {},
   "outputs": [],
   "source": [
    "def compileIdObs(y):\n",
    "    ideal_observer_model = defineSharedVarsIdObs(y)\n",
    "    compiled_ideal_observer_model = nutpie.compile_pymc_model(ideal_observer_model)\n",
    "    return compiled_ideal_observer_model"
   ]
  },
  {
   "cell_type": "code",
   "execution_count": null,
   "metadata": {},
   "outputs": [],
   "source": [
    "def experimenter(x_sim, z_sim, eps, ig_1, ig_2):\n",
    "    \n",
    "    compiled_ideal_observer_model = compileIdObs(x_sim) #for defining we need an input with the same shape\n",
    "    \n",
    "    def simulator_fn(rng, y, sigma2, size):\n",
    "        i = rng.integers(2**32)\n",
    "        \n",
    "        # Add irreducible observational noise\n",
    "        # x_tilde = rng.normal(x_real, sigma)\n",
    "        ideal_observer_withData = compiled_ideal_observer_model.with_data(y_shared = y, sigma2 = sigma2)\n",
    "        \n",
    "        # Take one posterior draw of x from the ideal oberver model\n",
    "        posterior_x = nutpie.sample(\n",
    "            ideal_observer_withData, \n",
    "            chains = 1,\n",
    "            draws = 1,\n",
    "            progress_bar = False,\n",
    "            save_warmup = False,\n",
    "            seed = i\n",
    "        ).posterior[\"x\"].values\n",
    "\n",
    "\n",
    "       \n",
    "\n",
    "        # Simulate response\n",
    "        response_simulation = posterior_x \n",
    "\n",
    "## save for debug\n",
    "        #global Xpost_sim_4\n",
    "        #global sigma2_sim_4\n",
    "        #global y_sim_4\n",
    "\n",
    "        #Xpost_sim_4=np.append(Xpost_sim_4, response_simulation)\n",
    "        #sigma2_sim_4=np.append(sigma2_sim_4, sigma2)\n",
    "        #y_sim_4=np.append(y_sim_4, y)\n",
    "\n",
    "        #print(response_simulation)\n",
    "       # print(sigma2)\n",
    "## end save\n",
    "\n",
    "        return response_simulation\n",
    "\n",
    "    with pm.Model() as experimenter_model:\n",
    "        sigma2 = pm.InverseGamma(\"sigma2\", ig_1, ig_2)\n",
    "        # Instead of sampling x_tilde, you can make it an implicit part of the simulator_fn\n",
    "        y = pm.Normal(\"y\", x_sim, np.sqrt(sigma2))  \n",
    "        #pm.InverseGamma(\"sigma_hat\", 2, 1, initval=0.8)\n",
    "\n",
    "        pm.Simulator(\n",
    "            \"z\",\n",
    "            fn = simulator_fn, \n",
    "            distance = \"gaussian\",\n",
    "            sum_stat = \"identity\",\n",
    "            epsilon = eps,\n",
    "            params = (y, sigma2),  \n",
    "            observed = z_sim,\n",
    "        )\n",
    "        return experimenter_model\n",
    "#     trace = pm.sample(chains=2, cores=1, idata_kwargs={\"log_likelihood\": False})\n",
    "    "
   ]
  },
  {
   "cell_type": "code",
   "execution_count": null,
   "metadata": {},
   "outputs": [],
   "source": [
    "def runModel_ABC(sigma2_true, N, eps, ig_1, ig_2, ndraws, nchains, ncores, threshold, corr_threshold):\n",
    "\n",
    "    #observation_var = observation_sigma**2\n",
    "    #response_noise = response_sigma**2\n",
    "\n",
    "\n",
    "    x_sim, y_sim, z_sim = generateData(N, sigma2_true )\n",
    "    \n",
    "    model_experimenter = experimenter(x_sim, z_sim, eps, ig_1, ig_2)\n",
    "    \n",
    "    trace = pm.sample_smc(model = model_experimenter, draws = ndraws, chains = nchains, cores = ncores, idata_kwargs={\"log_likelihood\": False}, threshold = threshold, correlation_threshold = corr_threshold)\n",
    "\n",
    "    global result\n",
    "    result = {'inputs':(sigma2_true, N, eps, ig_1, ig_2, ndraws, nchains, ncores), \n",
    "              'x_sim': x_sim, \n",
    "              'y_sim':y_sim,\n",
    "              'z_sim': z_sim,\n",
    "              'model_experimenter': model_experimenter,\n",
    "              'trace': trace}\n",
    "\n",
    "    return result"
   ]
  },
  {
   "cell_type": "code",
   "execution_count": null,
   "metadata": {},
   "outputs": [],
   "source": []
  },
  {
   "cell_type": "code",
   "execution_count": null,
   "metadata": {},
   "outputs": [],
   "source": []
  },
  {
   "attachments": {},
   "cell_type": "markdown",
   "metadata": {},
   "source": [
    "### for analytical posterior\n"
   ]
  },
  {
   "cell_type": "code",
   "execution_count": 1,
   "metadata": {},
   "outputs": [],
   "source": [
    "def experimenter_analyticPost(x_sim, z_sim, eps, ig_1, ig_2):\n",
    "    \n",
    "    #compiled_ideal_observer_model = compileIdObs(x_sim) #for defining we need an input with the same shape\n",
    "    \n",
    "    def simulator_fn(rng, y, sigma2, size):\n",
    "        i = rng.integers(2**32)\n",
    "        \n",
    "        xpost_mean = 1/(1 + sigma2) * y # analytically derived response mean\n",
    "        xpost_var = sigma2 / (1 + sigma2) # analytically derived response std\n",
    "\n",
    "\n",
    "        response_simulation = np.random.normal(xpost_mean, np.sqrt(xpost_var)) #st.multivariate_normal(mean=xpost_mean, cov=np.identity(len(xpost_mean))*xpost_var).rvs(1)\n",
    "        \n",
    "        ## for debugging\n",
    "        #global Xpost_sim_3\n",
    "        #global sigma2_sim_3\n",
    "        #global y_sim_3\n",
    "\n",
    "        #Xpost_sim_3=np.append(Xpost_sim_3, response_simulation)\n",
    "        #sigma2_sim_3=np.append(sigma2_sim_3, sigma2)\n",
    "        #y_sim_3=np.append(y_sim_3, y)\n",
    "\n",
    "        #print(sigma2)\n",
    "        # for debugging\n",
    "\n",
    "        return response_simulation\n",
    "\n",
    "    with pm.Model() as experimenter_model:\n",
    "        sigma2 = pm.InverseGamma(\"sigma2\", ig_1, ig_2)\n",
    "        # Instead of sampling x_tilde, you can make it an implicit part of the simulator_fn\n",
    "        y = pm.Normal(\"y\", x_sim, np.sqrt(sigma2))    ## pm.MvNormal(\"y\", x_sim, np.identity(len(x_sim))*sigma2)  ## \n",
    "        #pm.InverseGamma(\"sigma_hat\", 2, 1, initval=0.8)\n",
    "\n",
    "        pm.Simulator(\n",
    "            \"z\",\n",
    "            fn = simulator_fn, \n",
    "            distance = \"gaussian\",\n",
    "            sum_stat = \"identity\",\n",
    "            epsilon = eps,\n",
    "            params = (y, sigma2),  \n",
    "            observed = z_sim,\n",
    "        )\n",
    "        return experimenter_model"
   ]
  },
  {
   "cell_type": "code",
   "execution_count": null,
   "metadata": {},
   "outputs": [],
   "source": [
    "def runModel_ABC_analyticPost(sigma2_true, N, eps, ig_1, ig_2, ndraws, nchains, ncores):\n",
    "\n",
    "    #observation_var = observation_sigma**2\n",
    "    #response_noise = response_sigma**2\n",
    "\n",
    "\n",
    "    x_sim, y_sim, z_sim = generateData(N, sigma2_true )\n",
    "    \n",
    "    model_experimenter = experimenter_analyticPost(x_sim, z_sim, eps, ig_1, ig_2)\n",
    "    \n",
    "    trace = pm.sample_smc(model = model_experimenter, draws = ndraws, chains = nchains, cores = ncores, idata_kwargs={\"log_likelihood\": False})\n",
    "\n",
    "    global result\n",
    "    result = {'inputs':(sigma2_true, N, eps, ig_1, ig_2, ndraws, nchains, ncores), \n",
    "              'x_sim': x_sim, \n",
    "              'y_sim':y_sim,\n",
    "              'z_sim': z_sim,\n",
    "              'model_experimenter': model_experimenter,\n",
    "              'trace': trace}\n",
    "\n",
    "    return result"
   ]
  },
  {
   "attachments": {},
   "cell_type": "markdown",
   "metadata": {},
   "source": [
    "### Plotting functions"
   ]
  },
  {
   "cell_type": "code",
   "execution_count": 13,
   "metadata": {},
   "outputs": [],
   "source": [
    "def xhat_given_x_sigma2_pdf(xhat, x, sigma2):\n",
    "    m = 1 / (1 + sigma2) * x\n",
    "    v = sigma2 / (1 + sigma2) ** 2 + sigma2 / (1 + sigma2)\n",
    "    mv_xhat = st.multivariate_normal(mean = m, cov = np.identity(len(xhat)) * v)\n",
    "    return mv_xhat.pdf(xhat)"
   ]
  },
  {
   "cell_type": "code",
   "execution_count": 14,
   "metadata": {},
   "outputs": [],
   "source": [
    "def sigma2_given_xhat_x_pdf(xhat, x, sigma2, iv_1, iv_2):\n",
    "   pdf_xhat = xhat_given_x_sigma2_pdf(xhat, x, sigma2)\n",
    "   mv_x = st.multivariate_normal(mean = np.zeros(len(x)), cov = np.identity(len(x)))\n",
    "   pdf_x = mv_x.pdf(x)\n",
    "   pdf_sigma2 = st.invgamma.pdf(sigma2, a = iv_1, loc = 0, scale = iv_2)\n",
    "   return pdf_xhat * pdf_x * pdf_sigma2"
   ]
  },
  {
   "cell_type": "code",
   "execution_count": 15,
   "metadata": {},
   "outputs": [],
   "source": [
    "def forplot_sigma_posterior_fromstrore(trace, stimulus_simulation, iv_1, iv_2):\n",
    "    x = np.linspace(0.01, 50, 10000) \n",
    "\n",
    "    Ys = np.empty(len(x))\n",
    "    i = 0\n",
    "    for s in x:\n",
    "        y = sigma2_given_xhat_x_pdf(trace.observed_data.z.values, stimulus_simulation, s, iv_1, iv_2)\n",
    "        Ys[i] = y\n",
    "        i += 1\n",
    "        \n",
    "    dx = x[2] - x[1]\n",
    "    mass = np.sum(dx * Ys)\n",
    "    Ys_normalized = Ys / mass\n",
    "\n",
    "    return x, Ys_normalized"
   ]
  },
  {
   "cell_type": "code",
   "execution_count": 2,
   "metadata": {},
   "outputs": [],
   "source": [
    "\"\"\" def forplot_sigma_posterior_fromstrore(trace, stimulus_simulation, iv_1, iv_2):\n",
    "    x = np.linspace(0.01, 50, 10000) \n",
    "\n",
    "    Ys = np.empty(len(x))\n",
    "    i = 0\n",
    "    for s in x:\n",
    "        y = sigma2_given_xhat_x_pdf(trace.observed_data.response_simulation.values, stimulus_simulation, s, iv_1, iv_2)\n",
    "        Ys[i] = y\n",
    "        i += 1\n",
    "        \n",
    "    dx = x[2] - x[1]\n",
    "    mass = np.sum(dx * Ys)\n",
    "    Ys_normalized = Ys / mass\n",
    "\n",
    "    return x, Ys_normalized \"\"\""
   ]
  },
  {
   "cell_type": "code",
   "execution_count": 31,
   "metadata": {},
   "outputs": [],
   "source": [
    "def plot_posterior_hist_fromstore(trace, stimulus_simulation, sigma2, inv_1, inv_2, N, chain_num, draw, rt):\n",
    "    plt.hist(trace.posterior.sigma2[0,:], bins = np.logspace(np.log10(0.01), np.log10(50.0), 50), density = True, color = 'gray', alpha = 0.8)\n",
    "    plt.axvline(x = sigma2,  label = '$\\sigma^2$ used for data simulation')\n",
    "    x = np.linspace (0.01, 50, 1000) \n",
    "\n",
    "    #calculate pdf of Gamma distribution for each x-value\n",
    "    y = st.invgamma.pdf(x, a = inv_1, loc = 0, scale = inv_2)\n",
    "    plt.plot(x, y, linestyle = 'dashed',  label = 'prior' )\n",
    "\n",
    "    sigmaPost_x, sigmaPost_value = forplot_sigma_posterior_fromstrore(trace, stimulus_simulation, inv_1, inv_2)\n",
    "    plt.plot(sigmaPost_x, sigmaPost_value,  label = 'analytic posterior' )\n",
    "\n",
    "    ax=plt.gca()\n",
    "    ax.set_xscale('log')\n",
    "    ax.set_xlim(0.01, 50)\n",
    "    ax.set_ylim(0.0, 10)\n",
    "\n",
    "    plt.xlabel('$\\sigma^2$')\n",
    "    plt.legend(loc=\"upper right\")\n",
    "    plt.title('$\\sigma^2$ posterior \\n \\n N:'+str(N)+'\\n prior: IG('+str(inv_1)+','+str(inv_2)+')' +'\\n chain num:' + str(chain_num)+', draws:'+str(draw)+'\\n rt:'+rt)\n",
    "    plt.show()"
   ]
  },
  {
   "cell_type": "code",
   "execution_count": null,
   "metadata": {},
   "outputs": [],
   "source": []
  }
 ],
 "metadata": {
  "kernelspec": {
   "display_name": "myenv",
   "language": "python",
   "name": "python3"
  },
  "language_info": {
   "codemirror_mode": {
    "name": "ipython",
    "version": 3
   },
   "file_extension": ".py",
   "mimetype": "text/x-python",
   "name": "python",
   "nbconvert_exporter": "python",
   "pygments_lexer": "ipython3",
   "version": "3.10.8"
  },
  "orig_nbformat": 4,
  "vscode": {
   "interpreter": {
    "hash": "de1e89af3ef8b17e93d79e53c27fdd6267335e03ee420ef3296d6319bf4dd9be"
   }
  }
 },
 "nbformat": 4,
 "nbformat_minor": 2
}
